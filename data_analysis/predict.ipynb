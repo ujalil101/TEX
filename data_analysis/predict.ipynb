{
 "cells": [
  {
   "cell_type": "code",
   "execution_count": 1,
   "metadata": {},
   "outputs": [
    {
     "name": "stdout",
     "output_type": "stream",
     "text": [
      "File not found: C:/path/to/data/employees.json\n"
     ]
    }
   ],
   "source": [
    "import pandas as pd\n",
    "import json\n",
    "import os\n",
    "import pickle\n",
    "from sklearn.linear_model import LinearRegression\n",
    "from sklearn.model_selection import train_test_split\n",
    "\n",
    "\n",
    "# Print the current working directory\n",
    "print(\"Current Working Directory:\", os.getcwd())\n",
    "\n",
    "# Define the relative path to the JSON file\n",
    "json_file_path = os.path.join('..', 'data', 'employees.json')\n",
    "\n",
    "# Check if the file exists\n",
    "if not os.path.exists(json_file_path):\n",
    "    print(f\"File not found: {json_file_path}\")\n",
    "else:\n",
    "    # Read the JSON file\n",
    "    with open(json_file_path, 'r') as file:\n",
    "        data = json.load(file)\n",
    "\n",
    "    # Convert the list of objects to a DataFrame\n",
    "    df = pd.DataFrame(data)\n",
    "\n",
    "    # Define the path for the output CSV file\n",
    "    csv_file_path = os.path.join('output.csv')\n",
    "\n",
    "    # Save the DataFrame to a CSV file\n",
    "    df.to_csv(csv_file_path, index=False)\n",
    "\n",
    "    print(f\"CSV file has been created successfully at {csv_file_path}.\")\n",
    "\n",
    "\n",
    "data = pd.read_csv('output.csv')\n",
    "y = data['salary']\n",
    "X = pd.get_dummies(data[['jobRole', 'workLocation']])\n",
    "\n",
    "\n",
    "model = LinearRegression()\n",
    "X_train, X_test, y_train, y_test =  train_test_split(X, y, test_size=0.2, random_state=42)\n",
    "\n",
    "model.fit(X_train,y_train)\n",
    "pred = model.predict(X_test)\n",
    "score = model.score(X_test, y_test)\n",
    "\n",
    "filename = \"model.pkl\"\n",
    "\n",
    "with open(filename, 'wb') as file:\n",
    "    pickle.dump(model,file) \n",
    "\n"
   ]
  }
 ],
 "metadata": {
  "kernelspec": {
   "display_name": "Python 3",
   "language": "python",
   "name": "python3"
  },
  "language_info": {
   "codemirror_mode": {
    "name": "ipython",
    "version": 3
   },
   "file_extension": ".py",
   "mimetype": "text/x-python",
   "name": "python",
   "nbconvert_exporter": "python",
   "pygments_lexer": "ipython3",
   "version": "3.12.3"
  }
 },
 "nbformat": 4,
 "nbformat_minor": 2
}
